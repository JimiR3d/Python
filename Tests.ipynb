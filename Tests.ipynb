{
 "cells": [
  {
   "cell_type": "markdown",
   "id": "0d6e3f23",
   "metadata": {},
   "source": [
    "def add(a,b):\n",
    "    c = a + b \n",
    "    return c ;\n",
    "\n",
    "num1 = int(input(\"Enter the first number \"))\n",
    "num2 = int(input(\"Enter the second number \"))\n",
    "\n",
    "print(\"The sum of the two numbers is \",add(num1,num2))"
   ]
  },
  {
   "cell_type": "code",
   "execution_count": null,
   "id": "b9921f5d",
   "metadata": {},
   "outputs": [],
   "source": [
    "number1 = int(input(\"Enter the first number \"))\n",
    "number2 = int(input(\"Enter the second number \"))\n",
    "\n",
    "opp = input(\"Enter an operator \\n 'A' - Addition \\n 'B' - subtraction \\n 'C' - Division \\n 'D' - Multiplication \\n 'E' - Exponential \\n\")\n",
    "\n",
    "def add(number1,number2):\n",
    "    total = number1 + number2\n",
    "    return total;\n",
    "\n",
    "def sub(a,b):\n",
    "    total = a - b\n",
    "    return total;\n",
    "\n",
    "def div(a,b):\n",
    "    total = a / b\n",
    "    return total;\n",
    "\n",
    "def mult(a,b):\n",
    "    total = a * b\n",
    "    return total;\n",
    "\n",
    "def exp(a,b):\n",
    "    total = a ** b\n",
    "    return total;\n",
    "\n",
    "\n",
    "\n",
    "if opp == \"A\" :\n",
    "    print (\"The sum of the two numbers is \", add(number1, number2))\n",
    "    \n",
    "elif opp == \"B\" :\n",
    "    print (\"The subtraction of the two numbers is \", sub(number1, number2))\n",
    "    \n",
    "elif opp == \"C\" :\n",
    "    print (\"The division of the two numbers is \", div(number1, number2))\n",
    "    \n",
    "elif opp == \"D\" :\n",
    "    print (\"The multiplication of the two numbers is \", mult(number1, number2))\n",
    "    \n",
    "elif opp == \"E\" :\n",
    "    print (\"The exponential of the two numbers is \", exp(number1, number2))\n",
    "    \n"
   ]
  },
  {
   "cell_type": "code",
   "execution_count": 1,
   "id": "5928f715",
   "metadata": {},
   "outputs": [
    {
     "name": "stdout",
     "output_type": "stream",
     "text": [
      "100\n"
     ]
    }
   ],
   "source": [
    "num=100\n",
    "\n",
    "if (num<2) and (num>0):\n",
    "    print(num)\n",
    "else:\n",
    "    \n",
    "    for i in range(2,num):\n",
    "        for j in range(i,num)\n",
    "        if %j==0:\n",
    "            break\n",
    "    else:\n",
    "        print(num)\n",
    "print(num)"
   ]
  },
  {
   "cell_type": "code",
   "execution_count": null,
   "id": "5df027e4",
   "metadata": {},
   "outputs": [],
   "source": []
  }
 ],
 "metadata": {
  "kernelspec": {
   "display_name": "Python 3",
   "language": "python",
   "name": "python3"
  },
  "language_info": {
   "codemirror_mode": {
    "name": "ipython",
    "version": 3
   },
   "file_extension": ".py",
   "mimetype": "text/x-python",
   "name": "python",
   "nbconvert_exporter": "python",
   "pygments_lexer": "ipython3",
   "version": "3.8.8"
  }
 },
 "nbformat": 4,
 "nbformat_minor": 5
}
