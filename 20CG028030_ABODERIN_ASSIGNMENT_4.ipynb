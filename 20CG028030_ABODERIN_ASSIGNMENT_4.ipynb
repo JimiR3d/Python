{
 "cells": [
  {
   "cell_type": "code",
   "execution_count": 1,
   "id": "644a652b",
   "metadata": {},
   "outputs": [
    {
     "name": "stdout",
     "output_type": "stream",
     "text": [
      "Please enter an integer: 1\n",
      "Positive \n",
      "Odd\n"
     ]
    }
   ],
   "source": [
    "number = int(input(\"Please enter an integer: \"))\n",
    "\n",
    "if number > 0 :\n",
    "    print(\"Positive \")\n",
    "    \n",
    "elif number < 0 :\n",
    "    print(\"Negative \")\n",
    "    \n",
    "elif number == 0 :\n",
    "    print(\"Zero \")\n",
    "    \n",
    "else :\n",
    "    print(\"Your input is not invalid, please enter an integer ! \")\n",
    "    \n",
    "\n",
    "if (number%2) == 0 :\n",
    "    print (\"Even \")\n",
    "    \n",
    "else :\n",
    "    print (\"Odd\")\n",
    "    "
   ]
  },
  {
   "cell_type": "code",
   "execution_count": 2,
   "id": "3fcc9bec",
   "metadata": {},
   "outputs": [
    {
     "name": "stdout",
     "output_type": "stream",
     "text": [
      "Please enter the length of the firstrectangle 12\n",
      "Please enter the width of the first rectangle 12\n",
      "Please enter the length of the second rectangle 12\n",
      "Please enter the width of the second rectangle 12\n",
      "The area of the rectangles are equal : 144\n"
     ]
    }
   ],
   "source": [
    "rect_1_length = int(input(\"Please enter the length of the first rectangle \"))\n",
    "rect_1_width = int(input(\"Please enter the width of the first rectangle \"))\n",
    "\n",
    "rect_2_length = int(input(\"Please enter the length of the second rectangle \"))\n",
    "rect_2_width = int(input(\"Please enter the width of the second rectangle \"))\n",
    "\n",
    "rect_1_area = rect_1_length * rect_1_width\n",
    "rect_2_area = rect_2_length * rect_2_length\n",
    "\n",
    "if rect_1_area > rect_2_area :\n",
    "    print(\"The area of the first rectangle is greater : \", rect_1_area )\n",
    "    \n",
    "elif rect_2_area > rect_1_area :\n",
    "    print(\"The area of the second rectangle is greater: \", rect_2_area)\n",
    "    \n",
    "else :\n",
    "    print(\"The area of the rectangles are equal :\", rect_1_area )\n",
    "   "
   ]
  },
  {
   "cell_type": "code",
   "execution_count": 4,
   "id": "24303b3d",
   "metadata": {},
   "outputs": [
    {
     "name": "stdout",
     "output_type": "stream",
     "text": [
      "Please enter a month from 1 - 12 (e.g: Jan - 01): 01\n",
      "The month is in the first quarter \n"
     ]
    }
   ],
   "source": [
    "month = int(input(\"Please enter a month from 1 - 12 (e.g: Jan - 01): \"))\n",
    "jan = 1\n",
    "feb = 1\n",
    "mar = 1\n",
    "if month == 1 and month <= 3 :\n",
    "    print (\"The month is in the first quarter \")\n",
    "    \n",
    "elif month >= 4 and month <= 6 :\n",
    "    print (\"The month is in the second quarter \")\n",
    "    \n",
    "elif month >= 7 and month <= 9 :\n",
    "    print (\"The month is in the thrid quarter \")\n",
    "    \n",
    "elif month >= 10 and month <= 12 :\n",
    "    print (\"The month is in the fourth quarter \")\n",
    "    \n",
    "else :\n",
    "    print (\"You have entered an invalid number, please enter a number between 1 - 12 \")\n",
    "        "
   ]
  },
  {
   "cell_type": "code",
   "execution_count": 7,
   "id": "3b080bce",
   "metadata": {},
   "outputs": [
    {
     "name": "stdout",
     "output_type": "stream",
     "text": [
      "Please Enter a number between 1 - 10: 42\n",
      "Error, Please input a number between 1 - 10 \n"
     ]
    }
   ],
   "source": [
    "number = int(input(\"Please Enter a number between 1 - 10: \"))\n",
    "    \n",
    "if (number == 1):\n",
    "    print(\"I\")\n",
    "    \n",
    "elif (number == 2):\n",
    "    print(\"II\")\n",
    "    \n",
    "elif (number == 3):\n",
    "    print(\"III\")\n",
    "    \n",
    "elif (number == 4):\n",
    "    print(\"IV\")\n",
    "\n",
    "elif (number == 5):\n",
    "    print(\"V\")\n",
    "    \n",
    "elif (number == 6):\n",
    "    print(\"VI\")\n",
    "    \n",
    "elif (number == 7):\n",
    "    print(\"VII\")\n",
    "    \n",
    "elif (number == 8):\n",
    "    print(\"VIII\")\n",
    "    \n",
    "elif (number == 9):\n",
    "    print(\"IX\")\n",
    "    \n",
    "elif (number == 10):\n",
    "    print(\"X\")\n",
    "    \n",
    "else :\n",
    "    print(\"Error, Please input a number between 1 - 10 \")"
   ]
  },
  {
   "cell_type": "code",
   "execution_count": 11,
   "id": "39a58b94",
   "metadata": {},
   "outputs": [
    {
     "name": "stdout",
     "output_type": "stream",
     "text": [
      "Please enter a mass in kilograms(kg) 20\n",
      "The weight of the object is within range : 196.0\n"
     ]
    }
   ],
   "source": [
    "mass = float(input(\"Please enter a mass in kilograms(kg) \"))\n",
    "\n",
    "weight = mass * 9.8\n",
    "\n",
    "if weight > 500 :\n",
    "    print (\"This object is too heavy :\" , weight)\n",
    "    \n",
    "elif weight < 100 :\n",
    "    print (\"This object is way too light :\", weight)\n",
    "    \n",
    "else :\n",
    "    print (\"The weight of the object is within range :\", weight)"
   ]
  },
  {
   "cell_type": "code",
   "execution_count": 22,
   "id": "3e3b39f4",
   "metadata": {},
   "outputs": [
    {
     "name": "stdout",
     "output_type": "stream",
     "text": [
      "Please enter a Month in number (e.g: July-07) 01\n",
      "Please enter a Day of the month (in numeric form) 02\n",
      "Please enter a double-digit year (e.g: 2021 = 21)03\n",
      "1 / 2 / 3 is not magic\n"
     ]
    }
   ],
   "source": [
    "month = int(input(\"Please enter a Month in number (e.g: July-07) \"))\n",
    "day = int(input(\"Please enter a Day of the month (in numeric form) \"))\n",
    "year = int(input(\"Please enter a double-digit year (e.g: 2021 = 21)\"))\n",
    "\n",
    "if year == month*day :\n",
    "    print(month, \"/\", day, \"/\", year, \" is magic, the month times the day equals the year\")\n",
    "else :\n",
    "    print(month, \"/\", day, \"/\", year, \"is not magic\")"
   ]
  },
  {
   "cell_type": "code",
   "execution_count": 2,
   "id": "a700b451",
   "metadata": {},
   "outputs": [
    {
     "name": "stdout",
     "output_type": "stream",
     "text": [
      "Please enter first test points 24\n",
      "Please enter second test points 24\n",
      "Please enter exam points 50\n",
      "Distinction\n"
     ]
    }
   ],
   "source": [
    "test1 = int(input(\"Please enter first test points \"))\n",
    "test2 = int(input(\"Please enter second test points \"))\n",
    "exam = int(input(\"Please enter exam points \"))\n",
    "\n",
    "totalt = test1 + test2\n",
    "total = totalt + exam\n",
    "\n",
    "if test1 >= 0 and test1 <= 25 :\n",
    "    if test2 >= 0 and test1 <= 25 :\n",
    "        if exam >= 0 and exam <= 50 :\n",
    "            if total < 50 or exam < 25 :\n",
    "                print(\"Fail\")\n",
    "            if exam >= 25 :\n",
    "                if total >= 80 : \n",
    "                    print(\"Distinction\")\n",
    "                \n",
    "                if total < 80 and total > 60 :\n",
    "                    print(\"Credit\")\n",
    "                    \n",
    "                if total >= 50 and total <= 60 :\n",
    "                    print(\"Pass\")\n",
    "            "
   ]
  },
  {
   "cell_type": "code",
   "execution_count": 1,
   "id": "1a666235",
   "metadata": {},
   "outputs": [
    {
     "name": "stdout",
     "output_type": "stream",
     "text": [
      "Number of people attending the cookout? 3\n",
      "Number of hot dogs for each person? \n",
      "2\n",
      "The number of packages of hot dogs needed is 1\n",
      "The number of packages of hot dog buns needed is 1\n",
      "The number of hot dogs left over is 4\n",
      "The number of hot dog buns left over is 2\n"
     ]
    }
   ],
   "source": [
    "dogs= 10\n",
    "buns = 8\n",
    "people = int(input(\"Number of people attending the cookout? \"))\n",
    "pdog = int(input(\"Number of hot dogs for each person? \\n\"))\n",
    "\n",
    "total = people*pdog\n",
    "min_dogs = total//dogs\n",
    "min_buns = total//buns\n",
    "dogsleft = total%dogs\n",
    "bunsleft = total%buns\n",
    "if total<=dogs:\n",
    "    if total<=buns:\n",
    "        print(\"The number of packages of hot dogs needed is 1\")\n",
    "        print(\"The number of packages of hot dog buns needed is 1\")\n",
    "        print(\"The number of hot dogs left over is\",dogs - total)\n",
    "        print(\"The number of hot dog buns left over is\",buns - total)\n",
    "    else:\n",
    "        min_buns= (min_buns) +1\n",
    "        print(\"The number of packages of hot dogs needed is 1\")\n",
    "        print(\"The number of packages of hot dog buns needed is\",min_buns)\n",
    "        print(\"The number of hot dogs left over is\",dogs - total)\n",
    "        print(\"The number of hot dog buns left over is\",(min_buns*buns) - total)\n",
    "else:\n",
    "            if (dogsleft) < dogs and dogsleft!=0:\n",
    "                if (bunsleft) < buns and bunsleft!=0:\n",
    "                    min_dogs= (min_dogs) +1\n",
    "                    min_buns= (min_buns) +1\n",
    "                    print(\"The number of packages of hot dogs needed are\",min_dogs)\n",
    "                    print(\"The number of packages of hot dog buns needed are\",min_buns)\n",
    "                    print(\"The number of hot dogs left over is\",(min_dogs*dogs) - total)\n",
    "                    print(\"The number of hot dog buns left over is\",(min_buns*buns)-total)\n",
    "                else:\n",
    "                    min_dogs= (minimum_dogs) +1\n",
    "                    print(\"The number of packages of hot dogs needed are\",min_dogs)\n",
    "                    print(\"The number of packages of hot dog buns needed are\",min_buns)\n",
    "                    print(\"The number of hot dogs left over is\",(min_dogs*dogs) - total)\n",
    "                    print(\"The number of hot dog buns left over is\",(min_buns*buns)-total)\n",
    "           \n",
    "            else:\n",
    "                if bunsleft == 0:\n",
    "                    print(\"The number of packages of hot dogs needed are\",min_dogs)\n",
    "                    print(\"The number of packages of hot dog buns needed are\",min_buns)\n",
    "                    print(\"The number of hot dogs left over is\",(min_dogs*dogs) - total)\n",
    "                    print(\"The number of hot dog buns left over is\",(min_buns*buns)-total)\n",
    "                else:\n",
    "                    min_buns= (min_buns) +1\n",
    "                    print(\"The number of packages of hot dogs needed are\",min_dogs)\n",
    "                    print(\"The number of packages of hot dog buns needed are\",min_buns)\n",
    "                    print(\"The number of hot dogs left over is\",(min_dogs*dogs) - total)\n",
    "                    print(\"The number of hot dog buns left over is\",(min_buns*buns)-total)\n",
    "                \n"
   ]
  },
  {
   "cell_type": "code",
   "execution_count": 4,
   "id": "177ca00a",
   "metadata": {},
   "outputs": [
    {
     "name": "stdout",
     "output_type": "stream",
     "text": [
      "Enter a pocket number: 2\n",
      "The pocket is black.\n"
     ]
    }
   ],
   "source": [
    "num = int(input(\"Enter a pocket number: \"))\n",
    "if (num>=1 and num<=10) or (num>=19 and num<=28):\n",
    "    if num%2 != 0:\n",
    "        print(\"The pocket is red.\")\n",
    "    else:\n",
    "        print(\"The pocket is black.\")\n",
    "elif (num>=11 and num<=18) or (num>=29 and num<=36):\n",
    "    if num%2 != 0:\n",
    "        print(\"The pocket is black.\")\n",
    "    else:\n",
    "        print(\"The pocket is red.\")\n",
    "elif num == 0:\n",
    "    print(\"The pocket is green.\")\n",
    "else:\n",
    "    print(\"Error. Invalid input. Number should be between 0 and 36.\")"
   ]
  },
  {
   "cell_type": "code",
   "execution_count": 1,
   "id": "00ed5876",
   "metadata": {},
   "outputs": [
    {
     "name": "stdout",
     "output_type": "stream",
     "text": [
      "Guess the number of coins needed to make a dollar?\n",
      "How many pennies? 1\n",
      "How many nickels? 1\n",
      "How many dimes? 1\n",
      "How many quarters? 1\n",
      "\n",
      "\n",
      "Less than one dollar\n"
     ]
    }
   ],
   "source": [
    "print(\"Guess the number of coins needed to make a dollar?\")\n",
    "penny = 1\n",
    "nickel = 5\n",
    "dime = 10\n",
    "quarter = 25\n",
    "dollar = 100\n",
    "no_penny = int(input(\"How many pennies? \"))\n",
    "no_nickel = int(input(\"How many nickels? \"))\n",
    "no_dime = int(input(\"How many dimes? \"))\n",
    "no_quarter = int(input(\"How many quarters? \"))\n",
    "print(\"\\n\")\n",
    "total_penny = no_penny*penny\n",
    "total_nickel = no_nickel*nickel\n",
    "total_dime = no_dime*dime\n",
    "total_quarter = no_quarter*quarter\n",
    "\n",
    "result = total_penny+total_nickel+total_dime+total_quarter\n",
    "if result == dollar:\n",
    "    print(\"Congratulations! You won the game.\")\n",
    "else:\n",
    "    if result>dollar:\n",
    "        print(\"More than one dollar.\")\n",
    "    else:\n",
    "        print(\"Less than one dollar\")"
   ]
  },
  {
   "cell_type": "code",
   "execution_count": 2,
   "id": "2ff71d4b",
   "metadata": {},
   "outputs": [
    {
     "name": "stdout",
     "output_type": "stream",
     "text": [
      "Please enter your name Jimi\n",
      "Please enter the number of books purchased 25\n",
      "You have earned 60 point(S)\n"
     ]
    }
   ],
   "source": [
    "name = str(input(\"Please enter your name \")) \n",
    "books = int(input(\"Please enter the number of books purchased \"))\n",
    "            \n",
    "if books == 0 :\n",
    "    print (\"Hello \" + name + \" \" + \"You have earned 0 point(S)\")\n",
    "elif books == 1 :\n",
    "    print (\"You have earned 5 point(S)\")\n",
    "elif books == 2 :\n",
    "    print (\"You have earned 15 point(S)\")\n",
    "elif books == 3 :\n",
    "    print (\"You have earned 30 point(S)\")\n",
    "elif books >= 4 :\n",
    "    print (\"You have earned 60 point(S)\")\n",
    "else :\n",
    "    print(\"You have entered an invalid number\")\n",
    "            "
   ]
  },
  {
   "cell_type": "code",
   "execution_count": 3,
   "id": "efd61258",
   "metadata": {},
   "outputs": [
    {
     "name": "stdout",
     "output_type": "stream",
     "text": [
      "Enter the number of packages purchased: 53\n",
      "The discount is 30%\n",
      "The amount of purchase after discount is  69.3 dollars\n"
     ]
    }
   ],
   "source": [
    "price = 99\n",
    "num_of_pack = int(input(\"Enter the number of packages purchased: \"))\n",
    "if num_of_pack>=10 and num_of_pack<=19:\n",
    "    disc = 0.1*price\n",
    "    print(\"The discount is 10%\")\n",
    "    print(\"The amount of purchase after discount is \", price - disc,\"dollars\")\n",
    "elif num_of_pack>=20 and num_of_pack<=49:\n",
    "    disc = 0.2*price\n",
    "    print(\"The discount is 20%\")\n",
    "    print(\"The amount of purchase after discount is \", price - disc,\"dollars\")\n",
    "elif num_of_pack>=50 and num_of_pack<=99:\n",
    "    disc = 0.3*price\n",
    "    print(\"The discount is 30%\")\n",
    "    print(\"The amount of purchase after discount is \", price - disc,\"dollars\")\n",
    "elif num_of_pack>=100:\n",
    "    disc = 0.4*price\n",
    "    print(\"The discount is 40%\")\n",
    "    print(\"The amount of purchase after discount is \", price - disc,\"dollars\")\n",
    "elif num_of_pack>=1 and num_of_pack<=9:\n",
    "    disc = 0\n",
    "    print(\"The discount is 0%\")\n",
    "    print(\"The amount of purchase after discount is \", price - disc,\"dollars\")\n",
    "else:\n",
    "    print(\"Invalid input!!\")\n",
    "        "
   ]
  },
  {
   "cell_type": "code",
   "execution_count": 8,
   "id": "9b71ea6e",
   "metadata": {},
   "outputs": [
    {
     "name": "stdout",
     "output_type": "stream",
     "text": [
      "Enter the weight of the package: 64673\n",
      "The shipping charge is 307196.75 dollars.\n"
     ]
    }
   ],
   "source": [
    "weight = float(input(\"Enter the weight of the package: \"))\n",
    "if weight>0 and weight<=2:\n",
    "    rate = 1.5\n",
    "    charge = rate*weight\n",
    "    print(\"The shipping charge is\",charge,\"dollars.\")\n",
    "elif weight>2 and weight<=6:\n",
    "    rate = 3.0\n",
    "    charge = rate*weight\n",
    "    print(\"The shipping charge is\",charge,\"dollars.\")\n",
    "elif weight>6 and weight<=10:\n",
    "    rate = 4.0\n",
    "    charge = rate*weight\n",
    "    print(\"The shipping charge is\",charge,\"dollars.\")\n",
    "elif weight>10:\n",
    "    rate = 4.75\n",
    "    charge = rate*weight\n",
    "    print(\"The shipping charge is\",charge,\"dollars.\")\n",
    "else:\n",
    "    print(\"Invalid input!\")"
   ]
  },
  {
   "cell_type": "code",
   "execution_count": 9,
   "id": "8849d66a",
   "metadata": {},
   "outputs": [
    {
     "name": "stdout",
     "output_type": "stream",
     "text": [
      "Enter your weight: 64\n",
      "Enter your height: 64\n",
      "You are underweight.\n"
     ]
    }
   ],
   "source": [
    "weight = float(input(\"Enter your weight: \"))\n",
    "height = float(input(\"Enter your height: \"))\n",
    "BMI = (weight*703)/(pow(height,2))\n",
    "if weight==0 or height == 0:\n",
    "    print(\"Error!\")\n",
    "if BMI>=18.5 and BMI<=25:\n",
    "    print(\"You have optimal weight.\")\n",
    "elif BMI<18.5:\n",
    "    print(\"You are underweight.\")\n",
    "elif BMI>25:\n",
    "    print(\"You are overweight.\")\n",
    "    "
   ]
  },
  {
   "cell_type": "code",
   "execution_count": 10,
   "id": "6c5276c7",
   "metadata": {},
   "outputs": [
    {
     "name": "stdout",
     "output_type": "stream",
     "text": [
      "Enter a number of seconds: 5234624\n",
      "60 days. 14 hours. 3 minutes. 44 seconds.\n"
     ]
    }
   ],
   "source": [
    "time = int(input(\"Enter a number of seconds: \"))\n",
    "day = time//86400\n",
    "\n",
    "time = time%86400\n",
    "\n",
    "hour = time//3600\n",
    "\n",
    "time = time%3600\n",
    "\n",
    "minute = time//60\n",
    "\n",
    "time = time%60\n",
    "\n",
    "sec = time\n",
    "print(day,\"days.\",hour,\"hours.\",minute,\"minutes.\",sec,\"seconds.\")"
   ]
  },
  {
   "cell_type": "code",
   "execution_count": 12,
   "id": "9cf2799e",
   "metadata": {},
   "outputs": [
    {
     "name": "stdout",
     "output_type": "stream",
     "text": [
      "Enter year: 2020\n",
      "In 2020 ,February has 29 days.\n"
     ]
    }
   ],
   "source": [
    "year = int(input(\"Enter year: \"))\n",
    "if year%100 == 0:\n",
    "    if year%400 == 0:\n",
    "        print(\"In\",year,\",February has 29 days.\")\n",
    "    else:\n",
    "        print(\"In\",year,\",February has 28 days.\")\n",
    "else:\n",
    "    if year%4==0:\n",
    "        print(\"In\",year,\",February has 29 days.\")\n",
    "    else:\n",
    "        print(\"In\",year,\",February has 28 days.\")"
   ]
  },
  {
   "cell_type": "code",
   "execution_count": 13,
   "id": "73239216",
   "metadata": {},
   "outputs": [
    {
     "name": "stdout",
     "output_type": "stream",
     "text": [
      "This program will be terminated if the problem has been fixed!! \n",
      "Reboot the computer and try to connect.\n",
      "Did that fix the problem? (Please reply with 'yes' or 'no' )no\n",
      "Reboot the router and try to connect.\n",
      "Did that fix the problem? no\n",
      "Make sure the cables between the router and modem are plugged in firmly.\n",
      "Did that fix the problem? no\n",
      "Move the router to a new location.\n",
      "Did that fix the problem? no\n",
      "Get a new router.\n"
     ]
    }
   ],
   "source": [
    "print(\"This program will be terminated if the problem has been fixed!! \")\n",
    "print(\"Reboot the computer and try to connect.\")\n",
    "response = input(\"Did that fix the problem? (Please reply with 'yes' or 'no' )\")\n",
    "if response == \"no\":\n",
    "    print(\"Reboot the router and try to connect.\")\n",
    "    response = input(\"Did that fix the problem? \")\n",
    "    if response == \"no\":\n",
    "        print(\"Make sure the cables between the router and modem are plugged in firmly.\")\n",
    "        response = input(\"Did that fix the problem? \")\n",
    "        if response == \"no\":\n",
    "            print(\"Move the router to a new location.\")\n",
    "            response = input(\"Did that fix the problem? \")\n",
    "            if response == \"no\":\n",
    "                print(\"Get a new router.\")\n",
    "                "
   ]
  },
  {
   "cell_type": "code",
   "execution_count": 14,
   "id": "50f4dc6b",
   "metadata": {},
   "outputs": [
    {
     "name": "stdout",
     "output_type": "stream",
     "text": [
      "Is anyone in your party a vegetarian? yes\n",
      "Is anyone in your party a vegan? no\n",
      "Is anyone in your party gluten-free? yes\n",
      "Here are your restaurant choices: \n",
      "\n",
      "Main Street Pizza Company\n",
      "Corner Cafe\n",
      "The Chef's Kitchen\n"
     ]
    }
   ],
   "source": [
    "vegetarian = input(\"Is anyone in your party a vegetarian? \")\n",
    "vegan = input(\"Is anyone in your party a vegan? \")\n",
    "gluten_free = input(\"Is anyone in your party gluten-free? \")\n",
    "print(\"Here are your restaurant choices: \\n\")\n",
    "result = [vegetarian,vegan,gluten_free]\n",
    "\n",
    "JGB = [\"no\",\"no\",\"no\"]\n",
    "MSPC = [\"yes\",\"no\",\"yes\"]\n",
    "CC = [\"yes\",\"yes\",\"yes\"]\n",
    "MFI = [\"yes\",\"no\",\"no\"]\n",
    "TCK = [\"yes\",\"yes\",\"yes\"]\n",
    "if result[0]==\"yes\":\n",
    "    if result[1]==\"yes\":\n",
    "        if result[2]==\"yes\" or result[2]==\"no\":\n",
    "            print(\"Corner Cafe\")\n",
    "            print(\"The Chef's Kitchen\")\n",
    "    elif result[1]==\"no\":\n",
    "        if result[2]==\"yes\":\n",
    "            print(\"Main Street Pizza Company\")\n",
    "            print(\"Corner Cafe\")\n",
    "            print(\"The Chef's Kitchen\")\n",
    "        elif result[2]==\"no\":\n",
    "            print(\"Mama's Fine Italian\")\n",
    "            print(\"Main Street Pizza Company\")\n",
    "            print(\"Corner Cafe\")\n",
    "            print(\"The Chef's Kitchen\")\n",
    "elif result[0]==\"no\":\n",
    "    if result[1]==\"yes\":\n",
    "        if result[2]==\"yes\" or result[2]==\"no\":\n",
    "            print(\"Corner Cafe\")\n",
    "            print(\"The Chef's Kitchen\")\n",
    "    elif result[1]==\"no\":\n",
    "        if result[2]==\"yes\":\n",
    "            print(\"Main Street Pizza Company\")\n",
    "            print(\"Corner Cafe\")\n",
    "            print(\"The Chef's Kitchen\")\n",
    "        elif result[2]==\"no\":\n",
    "            print(\"Joe's Gourmet Burgers\")\n",
    "            print(\"Mama's Fine Italian\")\n",
    "            print(\"Main Street Pizza Company\")\n",
    "            print(\"Corner Cafe\")\n",
    "            print(\"The Chef's Kitchen\")\n",
    "        "
   ]
  },
  {
   "cell_type": "code",
   "execution_count": null,
   "id": "f3bdd225",
   "metadata": {},
   "outputs": [],
   "source": []
  }
 ],
 "metadata": {
  "kernelspec": {
   "display_name": "Python 3",
   "language": "python",
   "name": "python3"
  },
  "language_info": {
   "codemirror_mode": {
    "name": "ipython",
    "version": 3
   },
   "file_extension": ".py",
   "mimetype": "text/x-python",
   "name": "python",
   "nbconvert_exporter": "python",
   "pygments_lexer": "ipython3",
   "version": "3.8.8"
  }
 },
 "nbformat": 4,
 "nbformat_minor": 5
}
